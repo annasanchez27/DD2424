{
 "cells": [
  {
   "cell_type": "markdown",
   "metadata": {
    "collapsed": true
   },
   "source": [
    "# Assignment 4: RNN"
   ]
  },
  {
   "cell_type": "code",
   "execution_count": 47,
   "metadata": {},
   "outputs": [
    {
     "data": {
      "text/plain": [
       "<module 'src.RNN' from '/Users/annasanchezespunyes/Documents/GitHub/DD2424/lab4/src/RNN.py'>"
      ]
     },
     "execution_count": 47,
     "metadata": {},
     "output_type": "execute_result"
    }
   ],
   "source": [
    "from src import RNN \n",
    "from src import preprocessing \n",
    "import importlib\n",
    "import numpy as np\n",
    "importlib.reload(preprocessing)\n",
    "importlib.reload(RNN)"
   ]
  },
  {
   "cell_type": "markdown",
   "metadata": {},
   "source": [
    "### Read data"
   ]
  },
  {
   "cell_type": "code",
   "execution_count": 48,
   "metadata": {},
   "outputs": [],
   "source": [
    "read_data = preprocessing.load_data(\"/Users/annasanchezespunyes/Documents/GitHub/DD2424/lab4/data/goblet_book.txt\")"
   ]
  },
  {
   "cell_type": "code",
   "execution_count": 49,
   "metadata": {},
   "outputs": [
    {
     "data": {
      "text/plain": [
       "dict_keys(['data', 'char', 'K', 'char_to_ind', 'ind_to_char'])"
      ]
     },
     "execution_count": 49,
     "metadata": {},
     "output_type": "execute_result"
    }
   ],
   "source": [
    "read_data.keys()"
   ]
  },
  {
   "cell_type": "code",
   "execution_count": null,
   "metadata": {},
   "outputs": [],
   "source": []
  },
  {
   "cell_type": "markdown",
   "metadata": {},
   "source": [
    "### Compare gradient"
   ]
  },
  {
   "cell_type": "code",
   "execution_count": 59,
   "metadata": {},
   "outputs": [],
   "source": [
    "sequence_length = 25\n",
    "data = read_data['data']\n",
    "\n",
    "input_chars = data[0:sequence_length]\n",
    "target_chars = data[1: 1 + sequence_length]\n",
    "X = RNN.encode(input_chars, read_data['char_to_ind'])\n",
    "Y = RNN.encode(target_chars, read_data['char_to_ind'])\n",
    "\n",
    "model = RNN.RNN(read_data['K'])\n",
    "grads,_ = model.compute_gradients(X, Y)"
   ]
  },
  {
   "cell_type": "code",
   "execution_count": 60,
   "metadata": {},
   "outputs": [
    {
     "name": "stderr",
     "output_type": "stream",
     "text": [
      "100%|██████████| 5/5 [00:01<00:00,  4.15it/s]\n"
     ]
    }
   ],
   "source": [
    "model_num = RNN.RNN(read_data['K'])\n",
    "grad_num = model_num.compute_grads_num(X,Y,1e-4)"
   ]
  },
  {
   "cell_type": "code",
   "execution_count": 61,
   "metadata": {},
   "outputs": [],
   "source": [
    "def check_matrices(a_anal,a_num):\n",
    "    assert a_anal.shape == a_num.shape\n",
    "    matrix = np.mean(np.abs(a_anal - a_num))\n",
    "    print(\"Value\", matrix)\n",
    "    return matrix\n"
   ]
  },
  {
   "cell_type": "code",
   "execution_count": 62,
   "metadata": {},
   "outputs": [
    {
     "name": "stdout",
     "output_type": "stream",
     "text": [
      "Value 0.0027083267809850176\n",
      "Value 0.0005661785342572358\n",
      "Value 0.0027546530640408947\n",
      "Value 1.0885182056625392e-05\n",
      "Value 0.06884065000923964\n"
     ]
    },
    {
     "data": {
      "text/plain": [
       "0.06884065000923964"
      ]
     },
     "execution_count": 62,
     "metadata": {},
     "output_type": "execute_result"
    }
   ],
   "source": [
    "check_matrices(grad_num['V'],grads['V'])\n",
    "check_matrices(grad_num['W'],grads['W'])\n",
    "check_matrices(grad_num['U'],grads['U'])\n",
    "check_matrices(grad_num['c'],grads['c'])\n",
    "check_matrices(grad_num['b'],grads['b'])"
   ]
  },
  {
   "cell_type": "code",
   "execution_count": 63,
   "metadata": {},
   "outputs": [
    {
     "name": "stdout",
     "output_type": "stream",
     "text": [
      "iter = 0 loss = 109.55066563683452\n"
     ]
    },
    {
     "name": "stderr",
     "output_type": "stream",
     "text": [
      "/Users/annasanchezespunyes/Documents/GitHub/DD2424/lab4/src/RNN.py:89: RuntimeWarning: divide by zero encountered in log\n",
      "  loss = -sum(np.log(np.multiply(target_labels, p_list).sum(axis=0)))\n"
     ]
    },
    {
     "name": "stdout",
     "output_type": "stream",
     "text": [
      "iter = 10000 loss = nan\n",
      "iter = 20000 loss = nan\n",
      "iter = 30000 loss = nan\n",
      "iter = 40000 loss = nan\n",
      "iter = 50000 loss = nan\n",
      "iter = 60000 loss = nan\n",
      "iter = 70000 loss = nan\n",
      "iter = 80000 loss = nan\n",
      "iter = 90000 loss = nan\n"
     ]
    }
   ],
   "source": [
    "model.fit(read_data,sequence_length)"
   ]
  },
  {
   "cell_type": "code",
   "execution_count": null,
   "metadata": {},
   "outputs": [],
   "source": []
  },
  {
   "cell_type": "code",
   "execution_count": null,
   "metadata": {},
   "outputs": [],
   "source": []
  }
 ],
 "metadata": {
  "kernelspec": {
   "display_name": "Python 3",
   "language": "python",
   "name": "python3"
  },
  "language_info": {
   "codemirror_mode": {
    "name": "ipython",
    "version": 3
   },
   "file_extension": ".py",
   "mimetype": "text/x-python",
   "name": "python",
   "nbconvert_exporter": "python",
   "pygments_lexer": "ipython3",
   "version": "3.8.5"
  }
 },
 "nbformat": 4,
 "nbformat_minor": 1
}
